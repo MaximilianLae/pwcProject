{
 "cells": [
  {
   "cell_type": "code",
   "execution_count": 6,
   "metadata": {},
   "outputs": [],
   "source": [
    "import pandas as pd\n",
    "from transformers import pipeline\n",
    "from tqdm import tqdm"
   ]
  },
  {
   "cell_type": "code",
   "execution_count": 7,
   "metadata": {},
   "outputs": [
    {
     "name": "stderr",
     "output_type": "stream",
     "text": [
      "/home/maximilian.laechelin/.local/lib/python3.10/site-packages/transformers/tokenization_utils_base.py:1617: FutureWarning: `clean_up_tokenization_spaces` was not set. It will be set to `True` by default. This behavior will be deprecated in transformers v4.45, and will be then set to `False` by default. For more details check this issue: https://github.com/huggingface/transformers/issues/31884\n",
      "  warnings.warn(\n"
     ]
    }
   ],
   "source": [
    "classifier = pipeline(\"zero-shot-classification\", model=\"facebook/bart-large-mnli\")\n",
    "\n",
    "labels = [\n",
    "    \"This comment expresses trust in the brand\",\n",
    "    \"This comment expresses distrust towards the brand\",\n",
    "    \"This comment is neutral\"\n",
    "]"
   ]
  },
  {
   "cell_type": "code",
   "execution_count": 8,
   "metadata": {},
   "outputs": [],
   "source": [
    "def classify_comment(text):\n",
    "    result = classifier(text, labels)\n",
    "    return result['labels'][0]"
   ]
  },
  {
   "cell_type": "code",
   "execution_count": 9,
   "metadata": {},
   "outputs": [],
   "source": [
    "pkl_files = [\n",
    "    #'/home/maximilian.laechelin/pwcProject/data/audi_analyzed.pkl',\n",
    "    #'data/bmw_analyzed.pkl',\n",
    "    'data/volkswagen_analyzed.pkl',\n",
    "    #'data/porsche_analyzed.pkl',\n",
    "]"
   ]
  },
  {
   "cell_type": "code",
   "execution_count": 10,
   "metadata": {},
   "outputs": [
    {
     "name": "stdout",
     "output_type": "stream",
     "text": [
      "DataFrame 1:\n",
      "  File Path: data/volkswagen_analyzed.pkl\n",
      "  Number of Rows: 5136\n",
      "  Number of Columns: 6\n",
      "  DataFrame Size: 2034566 bytes\n",
      "\n"
     ]
    }
   ],
   "source": [
    "dataframes = [pd.read_pickle(file) for file in pkl_files]\n",
    "\n",
    "# Iterate over the DataFrames and print size and length information\n",
    "for i, df in enumerate(dataframes):\n",
    "    print(f\"DataFrame {i+1}:\")\n",
    "    print(f\"  File Path: {pkl_files[i]}\")\n",
    "    print(f\"  Number of Rows: {len(df)}\")\n",
    "    print(f\"  Number of Columns: {df.shape[1]}\")\n",
    "    print(f\"  DataFrame Size: {df.memory_usage(deep=True).sum()} bytes\\n\")"
   ]
  },
  {
   "cell_type": "code",
   "execution_count": 11,
   "metadata": {},
   "outputs": [
    {
     "name": "stderr",
     "output_type": "stream",
     "text": [
      "Processing data/volkswagen_analyzed.pkl: 100%|██████████| 5136/5136 [25:59<00:00,  3.29it/s]  \n"
     ]
    },
    {
     "data": {
      "text/html": [
       "<div>\n",
       "<style scoped>\n",
       "    .dataframe tbody tr th:only-of-type {\n",
       "        vertical-align: middle;\n",
       "    }\n",
       "\n",
       "    .dataframe tbody tr th {\n",
       "        vertical-align: top;\n",
       "    }\n",
       "\n",
       "    .dataframe thead th {\n",
       "        text-align: right;\n",
       "    }\n",
       "</style>\n",
       "<table border=\"1\" class=\"dataframe\">\n",
       "  <thead>\n",
       "    <tr style=\"text-align: right;\">\n",
       "      <th></th>\n",
       "      <th>comment_text</th>\n",
       "      <th>trust_classification</th>\n",
       "    </tr>\n",
       "  </thead>\n",
       "  <tbody>\n",
       "    <tr>\n",
       "      <th>0</th>\n",
       "      <td>Ihr habt es immer noch nicht gescheckt! Bringt...</td>\n",
       "      <td>This comment expresses distrust towards the brand</td>\n",
       "    </tr>\n",
       "    <tr>\n",
       "      <th>1</th>\n",
       "      <td>Good Job Volkswagen.</td>\n",
       "      <td>This comment expresses trust in the brand</td>\n",
       "    </tr>\n",
       "    <tr>\n",
       "      <th>2</th>\n",
       "      <td>Good one Volkswagen I really like it.</td>\n",
       "      <td>This comment expresses trust in the brand</td>\n",
       "    </tr>\n",
       "    <tr>\n",
       "      <th>3</th>\n",
       "      <td>nice</td>\n",
       "      <td>This comment is neutral</td>\n",
       "    </tr>\n",
       "    <tr>\n",
       "      <th>4</th>\n",
       "      <td>Looks so boring compared to all these new Chin...</td>\n",
       "      <td>This comment expresses distrust towards the brand</td>\n",
       "    </tr>\n",
       "    <tr>\n",
       "      <th>...</th>\n",
       "      <td>...</td>\n",
       "      <td>...</td>\n",
       "    </tr>\n",
       "    <tr>\n",
       "      <th>5131</th>\n",
       "      <td>😮</td>\n",
       "      <td>This comment expresses trust in the brand</td>\n",
       "    </tr>\n",
       "    <tr>\n",
       "      <th>5132</th>\n",
       "      <td>Nossa kombihome Glorithanna que mora no nosso ...</td>\n",
       "      <td>This comment expresses trust in the brand</td>\n",
       "    </tr>\n",
       "    <tr>\n",
       "      <th>5133</th>\n",
       "      <td>isso aí</td>\n",
       "      <td>This comment is neutral</td>\n",
       "    </tr>\n",
       "    <tr>\n",
       "      <th>5134</th>\n",
       "      <td>❤❤❤</td>\n",
       "      <td>This comment expresses trust in the brand</td>\n",
       "    </tr>\n",
       "    <tr>\n",
       "      <th>5135</th>\n",
       "      <td>❤❤</td>\n",
       "      <td>This comment expresses trust in the brand</td>\n",
       "    </tr>\n",
       "  </tbody>\n",
       "</table>\n",
       "<p>5136 rows × 2 columns</p>\n",
       "</div>"
      ],
      "text/plain": [
       "                                           comment_text  \\\n",
       "0     Ihr habt es immer noch nicht gescheckt! Bringt...   \n",
       "1                                  Good Job Volkswagen.   \n",
       "2                 Good one Volkswagen I really like it.   \n",
       "3                                                  nice   \n",
       "4     Looks so boring compared to all these new Chin...   \n",
       "...                                                 ...   \n",
       "5131                                                  😮   \n",
       "5132  Nossa kombihome Glorithanna que mora no nosso ...   \n",
       "5133                                            isso aí   \n",
       "5134                                                ❤❤❤   \n",
       "5135                                                 ❤❤   \n",
       "\n",
       "                                   trust_classification  \n",
       "0     This comment expresses distrust towards the brand  \n",
       "1             This comment expresses trust in the brand  \n",
       "2             This comment expresses trust in the brand  \n",
       "3                               This comment is neutral  \n",
       "4     This comment expresses distrust towards the brand  \n",
       "...                                                 ...  \n",
       "5131          This comment expresses trust in the brand  \n",
       "5132          This comment expresses trust in the brand  \n",
       "5133                            This comment is neutral  \n",
       "5134          This comment expresses trust in the brand  \n",
       "5135          This comment expresses trust in the brand  \n",
       "\n",
       "[5136 rows x 2 columns]"
      ]
     },
     "metadata": {},
     "output_type": "display_data"
    }
   ],
   "source": [
    "for file in pkl_files:\n",
    "    \n",
    "    df = pd.read_pickle(file)\n",
    "\n",
    "    tqdm.pandas(desc=f'Processing {file}')\n",
    "    df['trust_classification'] = df['comment_text'].progress_apply(classify_comment)\n",
    "\n",
    "    classified_file = file.replace('.pkl', '_classified.pkl')\n",
    "    df.to_pickle(classified_file)\n",
    "\n",
    "    # Display the DataFrame in the notebook with all text fully visible\n",
    "    #pd.set_option('display.max_colwidth', None)\n",
    "    display(df[['comment_text', 'trust_classification']])\n"
   ]
  },
  {
   "cell_type": "code",
   "execution_count": null,
   "metadata": {},
   "outputs": [],
   "source": []
  }
 ],
 "metadata": {
  "kernelspec": {
   "display_name": "Python 3",
   "language": "python",
   "name": "python3"
  },
  "language_info": {
   "codemirror_mode": {
    "name": "ipython",
    "version": 3
   },
   "file_extension": ".py",
   "mimetype": "text/x-python",
   "name": "python",
   "nbconvert_exporter": "python",
   "pygments_lexer": "ipython3",
   "version": "3.10.12"
  },
  "orig_nbformat": 4
 },
 "nbformat": 4,
 "nbformat_minor": 2
}
